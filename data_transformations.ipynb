{
 "cells": [
  {
   "cell_type": "markdown",
   "metadata": {},
   "source": [
    "# What's this?\n",
    "\n",
    "This is all the code that was necessary to transform the accepted loan offers, rejected loan offers, and transactional data into the final data format.\n",
    "\n",
    "On a high level, we need to iterate through each row in the merchant data, and for each business in that row, we check the date of the application.\n",
    "Then, we try to find the preceding 90 days' worth of transactions for that business, and calculate the total volume of transactions processed, and total successful and failed transactions.\n",
    "We then print this \"collated\" form of the data to a new row in a new CSV file.\n",
    "\n",
    "This shouldn't be necessary to do twice.\n",
    "\n",
    "TODO: State the file name of the completed output file."
   ]
  },
  {
   "cell_type": "markdown",
   "metadata": {},
   "source": [
    "## Accepted transactions"
   ]
  },
  {
   "cell_type": "code",
   "execution_count": null,
   "metadata": {},
   "outputs": [],
   "source": [
    "import pandas\n",
    "from datetime import datetime, timedelta\n",
    "\n",
    "accepted = pandas.read_csv('preliminary_data/accepted_merchants.csv', index_col='buuid')\n",
    "accepted_txn = pandas.read_csv('preliminary_data/accepted_txn.csv', index_col='buuid')\n",
    "\n",
    "output_list = []\n",
    "\n",
    "for business in accepted.itertuples():\n",
    "    # The date that the plan was created is at index 8\n",
    "    app_date = business[8]\n",
    "    buuid = business[0]\n",
    "    \n",
    "    # Filter the accepted transactions for this business, \n",
    "    # and only consider the ones that are within 90 days before\n",
    "    # the application date\n",
    "    \n",
    "    app_date_datetime = datetime.strptime(app_date.split(\" \")[0], '%Y-%m-%d')\n",
    "    app_date_minus_ninety = app_date_datetime - timedelta(days=90)\n",
    "\n",
    "    app_date_str = app_date_datetime.date().strftime('%Y-%m-%d')\n",
    "    app_date_minus_ninety_str = app_date_minus_ninety.date().strftime('%Y-%m-%d')\n",
    "    \n",
    "    bus_txns = accepted_txn.loc[[buuid]]\n",
    "    filtered_txns = bus_txns[(bus_txns['transaction_date'] < app_date_str) & (bus_txns['transaction_date'] > app_date_minus_ninety_str)]\n",
    "    \n",
    "    # Now we have filtered the transactions we need to calculate the total transaction volume\n",
    "    # As well as total amount of accepted and declined transactions\n",
    "\n",
    "    business_total_volume = filtered_txns['transaction_value'].sum()\n",
    "    business_total_accepted_txns = filtered_txns['approved_transaction_count'].sum()\n",
    "    business_total_failed_txns = filtered_txns['failed_transaction_count'].sum()\n",
    "    \n",
    "    output_list.append([buuid, business_total_volume, business_total_accepted_txns, business_total_failed_txns, \"Y\"])\n",
    "\n",
    "print('Writing the following table to CSV.')\n",
    "output_df = pandas.DataFrame(output_list, columns=[\"buuid\", \"txn_vol\", \"accepted_txn\", \"failed_txn\", \"capital_granted\"])\n",
    "print(output_df.head(10))\n",
    "output_df.to_csv('preliminary_data/accepted_output.csv', index=False)"
   ]
  },
  {
   "cell_type": "markdown",
   "metadata": {},
   "source": [
    "## Rejected transactions"
   ]
  },
  {
   "cell_type": "code",
   "execution_count": null,
   "metadata": {},
   "outputs": [],
   "source": [
    "import pandas\n",
    "from datetime import datetime, timedelta\n",
    "\n",
    "# See the above accepted block for more thorough code comments.\n",
    "\n",
    "failed = pandas.read_csv('preliminary_data/rejected_merchants_old.csv', index_col='buuid')\n",
    "failed_txn = pandas.read_csv('preliminary_data/rejected_txn_old.csv', index_col='buuid')\n",
    "\n",
    "output_list = []\n",
    "\n",
    "for business in failed.itertuples():\n",
    "    app_date = business[3]\n",
    "    buuid = business.Index\n",
    "    \n",
    "    app_date_datetime = datetime.strptime(app_date.split(\" \")[0], '%Y-%m-%d')\n",
    "    app_date_minus_ninety = app_date_datetime - timedelta(days=90)\n",
    "\n",
    "    app_date_str = app_date_datetime.date().strftime('%Y-%m-%d')\n",
    "    app_date_minus_ninety_str = app_date_minus_ninety.date().strftime('%Y-%m-%d')\n",
    "    \n",
    "    try:\n",
    "        bus_txns = failed_txn.loc[[buuid]]    \n",
    "        filtered_txns = bus_txns[(bus_txns['transaction_date'] < app_date_str) & (bus_txns['transaction_date'] > app_date_minus_ninety_str)]\n",
    "    \n",
    "        business_total_volume = filtered_txns['transaction_value'].sum()\n",
    "        business_total_accepted_txns = filtered_txns['approved_transaction_count'].sum()\n",
    "        business_total_failed_txns = filtered_txns['failed_transaction_count'].sum()\n",
    "    except KeyError:\n",
    "        business_total_volume = 0\n",
    "        business_total_accepted_txns = 0\n",
    "        business_total_failed_txns = 0\n",
    "        \n",
    "    output_list.append([buuid, business_total_volume, business_total_accepted_txns, business_total_failed_txns, \"N\"])\n",
    "\n",
    "print('Writing the following table to CSV.')\n",
    "output_df = pandas.DataFrame(output_list, columns=[\"buuid\", \"txn_vol\", \"accepted_txn\", \"failed_txn\", \"capital_granted\"])\n",
    "print(output_df.head(10))\n",
    "output_df.to_csv('preliminary_data/rejected_output.csv', index=False)"
   ]
  },
  {
   "cell_type": "markdown",
   "metadata": {},
   "source": [
    "## Zip up the two output files, and randomize their order"
   ]
  },
  {
   "cell_type": "code",
   "execution_count": 23,
   "metadata": {},
   "outputs": [
    {
     "name": "stdout",
     "output_type": "stream",
     "text": [
      "Verily, your output is ready, m'lord.\n"
     ]
    }
   ],
   "source": [
    "import pandas\n",
    "\n",
    "accepted = pandas.read_csv('preliminary_data/rejected_output.csv', index_col='buuid')\n",
    "\n",
    "rejected = pandas.read_csv('preliminary_data/accepted_output.csv', index_col='buuid')\n",
    "\n",
    "collated = pandas.concat([accepted, rejected])\n",
    "\n",
    "collated.sample(frac=1).to_csv('output_data/collated_output.csv', index=False)\n",
    "\n",
    "print(\"Verily, your output is ready, m'lord.\")"
   ]
  }
 ],
 "metadata": {
  "interpreter": {
   "hash": "aee8b7b246df8f9039afb4144a1f6fd8d2ca17a180786b69acc140d282b71a49"
  },
  "kernelspec": {
   "display_name": "Python 3.9.7 64-bit",
   "language": "python",
   "name": "python3"
  },
  "language_info": {
   "codemirror_mode": {
    "name": "ipython",
    "version": 3
   },
   "file_extension": ".py",
   "mimetype": "text/x-python",
   "name": "python",
   "nbconvert_exporter": "python",
   "pygments_lexer": "ipython3",
   "version": "3.9.7"
  },
  "orig_nbformat": 4
 },
 "nbformat": 4,
 "nbformat_minor": 2
}
