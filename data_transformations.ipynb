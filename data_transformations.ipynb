{
 "cells": [
  {
   "cell_type": "markdown",
   "metadata": {},
   "source": [
    "# What's this?\n",
    "\n",
    "This is all the code that was necessary to transform the accepted loan offers, rejected loan offers, and transactional data into the final data format.\n",
    "\n",
    "On a high level, we need to iterate through each row in the merchant data, and for each business in that row, we check the date of the application.\n",
    "Then, we try to find the preceding 90 days' worth of transactions for that business, and calculate the total volume of transactions processed, and total successful and failed transactions.\n",
    "We then print this \"collated\" form of the data to a new row in a new CSV file.\n",
    "\n",
    "This shouldn't be necessary to do twice.\n",
    "\n",
    "TODO: State the file name of the completed output file."
   ]
  },
  {
   "cell_type": "markdown",
   "metadata": {},
   "source": [
    "## Accepted transactions"
   ]
  },
  {
   "cell_type": "code",
   "execution_count": 24,
   "metadata": {},
   "outputs": [
    {
     "name": "stdout",
     "output_type": "stream",
     "text": [
      "Writing the following table to CSV.\n",
      "                                               buuid     txn_vol  \\\n",
      "0  1467294299878-dfa9b9e8-5bec-4b43-bf20-2b75c95c...    96686.51   \n",
      "1  1474379163995-fc8bbbc7-cf3f-4479-9335-3bc8adcc...  1405768.50   \n",
      "2  1474379163995-fc8bbbc7-cf3f-4479-9335-3bc8adcc...  2285902.36   \n",
      "3  1477904235403-44d3ebff-a66a-4136-9dd5-6556f70b...   288562.96   \n",
      "4  1480063167618-82065c6c-5600-489f-9b03-db1cc86c...   234177.00   \n",
      "5  1478782941341-f3898626-7f0c-4423-b236-75556a5c...   147860.00   \n",
      "6  1483942481356-d108d2b0-e853-46e1-af8e-7f76034a...   688614.81   \n",
      "7  1488481869839-b8e147d0-6541-4709-82b3-119f6d68...    35073.92   \n",
      "8  1489089487227-1da43088-050a-4e76-aec7-ca82e045...   126152.00   \n",
      "9  1490855005017-ea214d64-f92d-42cd-b5df-e27a2536...    71670.00   \n",
      "\n",
      "   accepted_txn  failed_txn  capital_granted  \n",
      "0            80          25                1  \n",
      "1          1200         472                1  \n",
      "2          1572         530                1  \n",
      "3           323          68                1  \n",
      "4           274          36                1  \n",
      "5            77          22                1  \n",
      "6         19905        2326                1  \n",
      "7           143          16                1  \n",
      "8           344          59                1  \n",
      "9           998         122                1  \n"
     ]
    }
   ],
   "source": [
    "import pandas\n",
    "from datetime import datetime, timedelta\n",
    "\n",
    "accepted = pandas.read_csv('preliminary_data/accepted_merchants.csv', index_col='buuid')\n",
    "accepted_txn = pandas.read_csv('preliminary_data/accepted_txn.csv', index_col='buuid')\n",
    "\n",
    "output_list = []\n",
    "\n",
    "for business in accepted.itertuples():\n",
    "    # The date that the plan was created is at index 8\n",
    "    app_date = business[8]\n",
    "    buuid = business[0]\n",
    "    \n",
    "    # Filter the accepted transactions for this business, \n",
    "    # and only consider the ones that are within 90 days before\n",
    "    # the application date\n",
    "    \n",
    "    app_date_datetime = datetime.strptime(app_date.split(\" \")[0], '%Y-%m-%d')\n",
    "    app_date_minus_ninety = app_date_datetime - timedelta(days=90)\n",
    "\n",
    "    app_date_str = app_date_datetime.date().strftime('%Y-%m-%d')\n",
    "    app_date_minus_ninety_str = app_date_minus_ninety.date().strftime('%Y-%m-%d')\n",
    "    \n",
    "    bus_txns = accepted_txn.loc[[buuid]]\n",
    "    filtered_txns = bus_txns[(bus_txns['transaction_date'] < app_date_str) & (bus_txns['transaction_date'] > app_date_minus_ninety_str)]\n",
    "    \n",
    "    # Now we have filtered the transactions we need to calculate the total transaction volume\n",
    "    # As well as total amount of accepted and declined transactions\n",
    "\n",
    "    business_total_volume = filtered_txns['transaction_value'].sum()\n",
    "    business_total_accepted_txns = filtered_txns['approved_transaction_count'].sum()\n",
    "    business_total_failed_txns = filtered_txns['failed_transaction_count'].sum()\n",
    "    \n",
    "    output_list.append([buuid, business_total_volume, business_total_accepted_txns, business_total_failed_txns, 1])\n",
    "\n",
    "print('Writing the following table to CSV.')\n",
    "output_df = pandas.DataFrame(output_list, columns=[\"buuid\", \"txn_vol\", \"accepted_txn\", \"failed_txn\", \"capital_granted\"])\n",
    "print(output_df.head(10))\n",
    "output_df.to_csv('preliminary_data/accepted_output.csv', index=False)"
   ]
  },
  {
   "cell_type": "markdown",
   "metadata": {},
   "source": [
    "## Rejected transactions"
   ]
  },
  {
   "cell_type": "code",
   "execution_count": 26,
   "metadata": {},
   "outputs": [
    {
     "name": "stdout",
     "output_type": "stream",
     "text": [
      "Writing the following table to CSV.\n",
      "                                               buuid     txn_vol  \\\n",
      "0  1484834667492-04ce1b02-9fc8-4e87-b164-dae5f5a0...  2455888.00   \n",
      "1  1484834667492-04ce1b02-9fc8-4e87-b164-dae5f5a0...  2502993.00   \n",
      "2  1484834667492-04ce1b02-9fc8-4e87-b164-dae5f5a0...  2453798.00   \n",
      "3  1484834667492-04ce1b02-9fc8-4e87-b164-dae5f5a0...  2455888.00   \n",
      "4  1484834667492-04ce1b02-9fc8-4e87-b164-dae5f5a0...  2455888.00   \n",
      "5  1509109286074-0c36ba7d-023c-4694-85ec-3e0b6fdc...   762790.45   \n",
      "6  1509109286074-0c36ba7d-023c-4694-85ec-3e0b6fdc...   762577.95   \n",
      "7  1509109286074-0c36ba7d-023c-4694-85ec-3e0b6fdc...   762577.95   \n",
      "8  1509109286074-0c36ba7d-023c-4694-85ec-3e0b6fdc...   762577.95   \n",
      "9  1509109286074-0c36ba7d-023c-4694-85ec-3e0b6fdc...   762577.95   \n",
      "\n",
      "   accepted_txn  failed_txn  capital_granted  \n",
      "0          3420         385                0  \n",
      "1          3440         370                0  \n",
      "2          3435         380                0  \n",
      "3          3420         385                0  \n",
      "4          3420         385                0  \n",
      "5          2605         505                0  \n",
      "6          2605         490                0  \n",
      "7          2605         490                0  \n",
      "8          2605         490                0  \n",
      "9          2605         490                0  \n"
     ]
    }
   ],
   "source": [
    "import pandas\n",
    "from datetime import datetime, timedelta\n",
    "\n",
    "# See the above accepted block for more thorough code comments.\n",
    "\n",
    "failed = pandas.read_csv('preliminary_data/rejected_merchants.csv', index_col='buuid')\n",
    "failed_txn = pandas.read_csv('preliminary_data/rejected_txn.csv', index_col='buuid')\n",
    "\n",
    "output_list = []\n",
    "\n",
    "for business in failed.itertuples():\n",
    "    app_date = business[3]\n",
    "    buuid = business.Index\n",
    "    \n",
    "    app_date_datetime = datetime.strptime(app_date.split(\" \")[0], '%Y-%m-%d')\n",
    "    app_date_minus_ninety = app_date_datetime - timedelta(days=90)\n",
    "\n",
    "    app_date_str = app_date_datetime.date().strftime('%Y-%m-%d')\n",
    "    app_date_minus_ninety_str = app_date_minus_ninety.date().strftime('%Y-%m-%d')\n",
    "    \n",
    "    try:\n",
    "        bus_txns = failed_txn.loc[[buuid]]    \n",
    "        filtered_txns = bus_txns[(bus_txns['transaction_date'] < app_date_str) & (bus_txns['transaction_date'] > app_date_minus_ninety_str)]\n",
    "    \n",
    "        business_total_volume = filtered_txns['transaction_value'].sum()\n",
    "        business_total_accepted_txns = filtered_txns['approved_transaction_count'].sum()\n",
    "        business_total_failed_txns = filtered_txns['failed_transaction_count'].sum()\n",
    "    except KeyError:\n",
    "        business_total_volume = 0\n",
    "        business_total_accepted_txns = 0\n",
    "        business_total_failed_txns = 0\n",
    "        \n",
    "    output_list.append([buuid, business_total_volume, business_total_accepted_txns, business_total_failed_txns, 0])\n",
    "\n",
    "print('Writing the following table to CSV.')\n",
    "output_df = pandas.DataFrame(output_list, columns=[\"buuid\", \"txn_vol\", \"accepted_txn\", \"failed_txn\", \"capital_granted\"])\n",
    "print(output_df.head(10))\n",
    "output_df.to_csv('preliminary_data/rejected_output.csv', index=False)"
   ]
  },
  {
   "cell_type": "markdown",
   "metadata": {},
   "source": [
    "## Zip up the two output files, and randomize their order"
   ]
  },
  {
   "cell_type": "code",
   "execution_count": 28,
   "metadata": {},
   "outputs": [
    {
     "name": "stdout",
     "output_type": "stream",
     "text": [
      "Verily, your output is ready, m'lord.\n"
     ]
    }
   ],
   "source": [
    "import pandas\n",
    "\n",
    "accepted = pandas.read_csv('preliminary_data/rejected_output.csv', index_col='buuid')\n",
    "\n",
    "rejected = pandas.read_csv('preliminary_data/accepted_output.csv', index_col='buuid')\n",
    "\n",
    "collated = pandas.concat([accepted, rejected])\n",
    "\n",
    "collated.sample(frac=1).to_csv('output_data/collated_output.csv', index=False)\n",
    "\n",
    "print(\"Verily, your output is ready, m'lord.\")"
   ]
  }
 ],
 "metadata": {
  "interpreter": {
   "hash": "aee8b7b246df8f9039afb4144a1f6fd8d2ca17a180786b69acc140d282b71a49"
  },
  "kernelspec": {
   "display_name": "Python 3.9.7 64-bit",
   "language": "python",
   "name": "python3"
  },
  "language_info": {
   "codemirror_mode": {
    "name": "ipython",
    "version": 3
   },
   "file_extension": ".py",
   "mimetype": "text/x-python",
   "name": "python",
   "nbconvert_exporter": "python",
   "pygments_lexer": "ipython3",
   "version": "3.9.7"
  },
  "orig_nbformat": 4
 },
 "nbformat": 4,
 "nbformat_minor": 2
}
