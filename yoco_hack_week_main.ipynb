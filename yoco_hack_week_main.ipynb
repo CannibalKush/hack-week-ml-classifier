{
  "cells": [
    {
      "cell_type": "markdown",
      "metadata": {
        "colab_type": "text",
        "id": "view-in-github"
      },
      "source": [
        "<a href=\"https://colab.research.google.com/github/CannibalKush/hack-week-ml-classifier/blob/main/Yoco_hack.ipynb\" target=\"_parent\"><img src=\"https://colab.research.google.com/assets/colab-badge.svg\" alt=\"Open In Colab\"/></a>"
      ]
    },
    {
      "cell_type": "markdown",
      "metadata": {
        "id": "CQqcbW1nArv1"
      },
      "source": [
        "# Welcome to team ML Risk\\'s hack week project!\n",
        "\n",
        "We'll be using machine learning and building a simple classifier to sort data, in the form of a merchant's transactions and history, into categories of \"credit-worthiness\".\n",
        "\n",
        "To do so, we plan on using a real-life Yoco dataset and Google's Tensorflow. Hopefully at the end of the day we can start thinking about how to implement this tool as a process, and cut out our creditors altogether!\n",
        "\n"
      ]
    },
    {
      "cell_type": "markdown",
      "metadata": {
        "id": "nguRd6-JA2JF"
      },
      "source": [
        "First things first, let's import Tensorflow, as it'll be doing the heavy lifting for us."
      ]
    },
    {
      "cell_type": "code",
      "execution_count": 1,
      "metadata": {
        "colab": {
          "base_uri": "https://localhost:8080/"
        },
        "id": "0trJmd6DjqBZ",
        "outputId": "4c7122c2-7d75-4531-b548-4887ee5c6f6c"
      },
      "outputs": [
        {
          "name": "stdout",
          "output_type": "stream",
          "text": [
            "TensorFlow version: 2.7.0\n"
          ]
        }
      ],
      "source": [
        "import tensorflow as tf\n",
        "print(\"TensorFlow version:\", tf.__version__)"
      ]
    },
    {
      "cell_type": "markdown",
      "metadata": {
        "id": "5SyhLHMlBfNK"
      },
      "source": [
        "Next, we'd like to get access to our training data-set. Ideally this should be sourced from Yoco itself, but for demo purposes, maybe not quite yet.\n"
      ]
    },
    {
      "cell_type": "code",
      "execution_count": 3,
      "metadata": {
        "id": "Th3-rwpbB2Ei"
      },
      "outputs": [],
      "source": [
        "import pathlib\n",
        "import os\n",
        "import matplotlib.pyplot as plt\n",
        "import pandas as pd\n",
        "import numpy as np\n",
        "\n",
        "np.set_printoptions(precision=4)"
      ]
    }
  ],
  "metadata": {
    "colab": {
      "authorship_tag": "ABX9TyOiO/DfwrQ+5Z4KfASP7Biw",
      "include_colab_link": true,
      "name": "Yoco-hack.ipynb",
      "provenance": [],
      "toc_visible": true
    },
    "kernelspec": {
      "display_name": "Python 3",
      "name": "python3"
    },
    "language_info": {
      "codemirror_mode": {
        "name": "ipython",
        "version": 3
      },
      "file_extension": ".py",
      "mimetype": "text/x-python",
      "name": "python",
      "nbconvert_exporter": "python",
      "pygments_lexer": "ipython3",
      "version": "3.9.7"
    }
  },
  "nbformat": 4,
  "nbformat_minor": 0
}
