{
  "nbformat": 4,
  "nbformat_minor": 0,
  "metadata": {
    "colab": {
      "name": "Yoco-hack.ipynb",
      "provenance": [],
      "toc_visible": true,
      "authorship_tag": "ABX9TyOiO/DfwrQ+5Z4KfASP7Biw",
      "include_colab_link": true
    },
    "kernelspec": {
      "name": "python3",
      "display_name": "Python 3"
    },
    "language_info": {
      "name": "python"
    }
  },
  "cells": [
    {
      "cell_type": "markdown",
      "metadata": {
        "id": "view-in-github",
        "colab_type": "text"
      },
      "source": [
        "<a href=\"https://colab.research.google.com/github/CannibalKush/hack-week-ml-classifier/blob/main/Yoco_hack.ipynb\" target=\"_parent\"><img src=\"https://colab.research.google.com/assets/colab-badge.svg\" alt=\"Open In Colab\"/></a>"
      ]
    },
    {
      "cell_type": "markdown",
      "metadata": {
        "id": "CQqcbW1nArv1"
      },
      "source": [
        "# Welcome to team ML Risk\\'s hack week project!\n",
        "\n",
        "We'll be using machine learning and building a simple classifier to sort data, in the form of a merchant's transactions and history, into categories of \"credit-worthiness\".\n",
        "\n",
        "To do so, we plan on using a real-life Yoco dataset and Google's Tensorflow. Hopefully at the end of the day we can start thinking about how to implement this tool as a process, and cut out our creditors altogether!\n",
        "\n"
      ]
    },
    {
      "cell_type": "markdown",
      "metadata": {
        "id": "nguRd6-JA2JF"
      },
      "source": [
        "First things first, let's import Tensorflow, as it'll be doing the heavy lifting for us."
      ]
    },
    {
      "cell_type": "code",
      "metadata": {
        "id": "0trJmd6DjqBZ",
        "colab": {
          "base_uri": "https://localhost:8080/"
        },
        "outputId": "4c7122c2-7d75-4531-b548-4887ee5c6f6c"
      },
      "source": [
        "import tensorflow as tf\n",
        "print(\"TensorFlow version:\", tf.__version__)"
      ],
      "execution_count": 1,
      "outputs": [
        {
          "output_type": "stream",
          "name": "stdout",
          "text": [
            "TensorFlow version: 2.7.0\n"
          ]
        }
      ]
    },
    {
      "cell_type": "markdown",
      "metadata": {
        "id": "5SyhLHMlBfNK"
      },
      "source": [
        "Next, we'd like to get access to our training data-set. Ideally this should be sourced from Yoco itself, but for demo purposes, maybe not quite yet.\n"
      ]
    },
    {
      "cell_type": "code",
      "metadata": {
        "id": "Th3-rwpbB2Ei"
      },
      "source": [
        "import pathlib\n",
        "import os\n",
        "import matplotlib.pyplot as plt\n",
        "import pandas as pd\n",
        "import numpy as np\n",
        "\n",
        "np.set_printoptions(precision=4)"
      ],
      "execution_count": null,
      "outputs": []
    }
  ]
}